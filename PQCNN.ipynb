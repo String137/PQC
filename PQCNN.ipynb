{
 "metadata": {
  "language_info": {
   "codemirror_mode": {
    "name": "ipython",
    "version": 3
   },
   "file_extension": ".py",
   "mimetype": "text/x-python",
   "name": "python",
   "nbconvert_exporter": "python",
   "pygments_lexer": "ipython3",
   "version": "3.8.5"
  },
  "orig_nbformat": 2,
  "kernelspec": {
   "name": "python385jvsc74a57bd0aee8b7b246df8f9039afb4144a1f6fd8d2ca17a180786b69acc140d282b71a49",
   "display_name": "Python 3.8.5 64-bit"
  }
 },
 "nbformat": 4,
 "nbformat_minor": 2,
 "cells": [
  {
   "cell_type": "code",
   "execution_count": 1,
   "metadata": {},
   "outputs": [],
   "source": [
    "import numpy as np\n",
    "import torch\n",
    "import torch.nn as nn\n",
    "from PQC import getHaar\n",
    "import matplotlib.pyplot as plt\n",
    "from QuantumState import *\n",
    "from getPQCvector import *\n",
    "from PQC_Loss import *"
   ]
  },
  {
   "cell_type": "code",
   "execution_count": 2,
   "metadata": {},
   "outputs": [
    {
     "output_type": "stream",
     "name": "stdout",
     "text": [
      "Collecting torch\n",
      "  Using cached torch-1.8.1-cp38-none-macosx_10_9_x86_64.whl (119.6 MB)\n",
      "Requirement already satisfied: typing-extensions in /Users/hojun/opt/anaconda3/lib/python3.8/site-packages (from torch) (3.7.4.2)\n",
      "Requirement already satisfied: numpy in /Users/hojun/opt/anaconda3/lib/python3.8/site-packages (from torch) (1.18.5)\n",
      "Installing collected packages: torch\n",
      "Successfully installed torch-1.8.1\n"
     ]
    }
   ],
   "source": [
    "class PQCNN(nn.Module):\n",
    "    def __init__(self,qubits=2,num=1000,bins=250):\n",
    "        super.__init__()\n",
    "        self.fc1 = nn.Linear(6,6,bias=True)\n",
    "        self.activation = nn.tanh()\n",
    "        self.fc2 = nn.Linear(6,6,bias=True)\n",
    "        self.qubits = qubits\n",
    "        self.num = num\n",
    "        self.bins = bins\n",
    "        self.haar_hist = torch.from_numpy(getHaar(reps=self.num,bins=self.bins,qubits=self.qubits))\n",
    "        self.criterion = nn.KLdivLoss(reduction='sum')\n",
    "    def getPQCvector(self,theta):\n",
    "        q = QuantumState(2)\n",
    "        q.RX(0,theta[0].view(1,))\n",
    "        q.RX(1,theta[1].view(1,))\n",
    "        q.RZ(0,theta[2].view(1,))\n",
    "        q.RZ(1,theta[3].view(1,))\n",
    "        q.CRX(0,1,theta[4].view(1,))\n",
    "        q.CRX(1,0,theta[5].view(1,))\n",
    "        v = q.state.view(-1,1)\n",
    "        return v\n",
    "    def getPQCvectorparallel(self,num):\n",
    "        input = torch.rand(6,num)\n",
    "    def forward(self, x):\n",
    "        x = self.fc1(x)\n",
    "        x = self.activation(x)\n",
    "        x = self.fc2(x)\n",
    "        x = self.activation(x)\n",
    "        return x\n",
    "    def loss(self,hist):\n",
    "        return self.criterion(torch.log(hist),self.haar_hist)\n",
    "    def train(self,epoch=100):\n",
    "        for ep in range(epoch):\n",
    "            Fidelity = None\n",
    "            for i in self.num:\n",
    "                v1 = getPQCvector(x)\n",
    "                v2 = getPQCvector(x)\n",
    "                F = torch.abs(torch.matmul(torch.conj(torch.transpose(v1,0,1)),v2))**2\n",
    "                if Fidelity is None:\n",
    "                    Fidelity = F.view(1,)\n",
    "                else:\n",
    "                    Fidelity = torch.cat((Fidelity,F.view(1,)),-1)\n",
    "            hist = histgauss(Fidelity,bins=250,sigma=1/bins)\n",
    "\n"
   ]
  },
  {
   "cell_type": "code",
   "execution_count": null,
   "metadata": {},
   "outputs": [],
   "source": [
    "num = 10\n",
    "input = torch.rand(6,num)"
   ]
  },
  {
   "cell_type": "code",
   "execution_count": null,
   "metadata": {},
   "outputs": [],
   "source": []
  }
 ]
}